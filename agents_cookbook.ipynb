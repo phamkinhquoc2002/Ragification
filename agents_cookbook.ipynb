{
  "cells": [
    {
      "cell_type": "code",
      "execution_count": null,
      "metadata": {
        "colab": {
          "base_uri": "https://localhost:8080/"
        },
        "id": "egY4fT7QE8mY",
        "outputId": "07bcb7dc-5ca1-4c88-e555-4bb7fe83bbcf"
      },
      "outputs": [
        {
          "name": "stdout",
          "output_type": "stream",
          "text": [
            "Collecting pyautogen\n",
            "  Downloading pyautogen-0.2.28-py3-none-any.whl (284 kB)\n",
            "\u001b[2K     \u001b[90m━━━━━━━━━━━━━━━━━━━━━━━━━━━━━━━━━━━━━━━━\u001b[0m \u001b[32m284.6/284.6 kB\u001b[0m \u001b[31m5.1 MB/s\u001b[0m eta \u001b[36m0:00:00\u001b[0m\n",
            "\u001b[?25hCollecting diskcache (from pyautogen)\n",
            "  Downloading diskcache-5.6.3-py3-none-any.whl (45 kB)\n",
            "\u001b[2K     \u001b[90m━━━━━━━━━━━━━━━━━━━━━━━━━━━━━━━━━━━━━━━━\u001b[0m \u001b[32m45.5/45.5 kB\u001b[0m \u001b[31m4.5 MB/s\u001b[0m eta \u001b[36m0:00:00\u001b[0m\n",
            "\u001b[?25hCollecting docker (from pyautogen)\n",
            "  Downloading docker-7.1.0-py3-none-any.whl (147 kB)\n",
            "\u001b[2K     \u001b[90m━━━━━━━━━━━━━━━━━━━━━━━━━━━━━━━━━━━━━━━━\u001b[0m \u001b[32m147.8/147.8 kB\u001b[0m \u001b[31m8.5 MB/s\u001b[0m eta \u001b[36m0:00:00\u001b[0m\n",
            "\u001b[?25hCollecting flaml (from pyautogen)\n",
            "  Downloading FLAML-2.1.2-py3-none-any.whl (296 kB)\n",
            "\u001b[2K     \u001b[90m━━━━━━━━━━━━━━━━━━━━━━━━━━━━━━━━━━━━━━━━\u001b[0m \u001b[32m296.7/296.7 kB\u001b[0m \u001b[31m12.3 MB/s\u001b[0m eta \u001b[36m0:00:00\u001b[0m\n",
            "\u001b[?25hRequirement already satisfied: numpy<2,>=1.17.0 in /usr/local/lib/python3.10/dist-packages (from pyautogen) (1.25.2)\n",
            "Collecting openai>=1.3 (from pyautogen)\n",
            "  Downloading openai-1.30.5-py3-none-any.whl (320 kB)\n",
            "\u001b[2K     \u001b[90m━━━━━━━━━━━━━━━━━━━━━━━━━━━━━━━━━━━━━━━━\u001b[0m \u001b[32m320.7/320.7 kB\u001b[0m \u001b[31m13.9 MB/s\u001b[0m eta \u001b[36m0:00:00\u001b[0m\n",
            "\u001b[?25hRequirement already satisfied: packaging in /usr/local/lib/python3.10/dist-packages (from pyautogen) (24.0)\n",
            "Requirement already satisfied: pydantic!=2.6.0,<3,>=1.10 in /usr/local/lib/python3.10/dist-packages (from pyautogen) (2.7.1)\n",
            "Collecting python-dotenv (from pyautogen)\n",
            "  Downloading python_dotenv-1.0.1-py3-none-any.whl (19 kB)\n",
            "Requirement already satisfied: termcolor in /usr/local/lib/python3.10/dist-packages (from pyautogen) (2.4.0)\n",
            "Collecting tiktoken (from pyautogen)\n",
            "  Downloading tiktoken-0.7.0-cp310-cp310-manylinux_2_17_x86_64.manylinux2014_x86_64.whl (1.1 MB)\n",
            "\u001b[2K     \u001b[90m━━━━━━━━━━━━━━━━━━━━━━━━━━━━━━━━━━━━━━━━\u001b[0m \u001b[32m1.1/1.1 MB\u001b[0m \u001b[31m12.4 MB/s\u001b[0m eta \u001b[36m0:00:00\u001b[0m\n",
            "\u001b[?25hRequirement already satisfied: anyio<5,>=3.5.0 in /usr/local/lib/python3.10/dist-packages (from openai>=1.3->pyautogen) (3.7.1)\n",
            "Requirement already satisfied: distro<2,>=1.7.0 in /usr/lib/python3/dist-packages (from openai>=1.3->pyautogen) (1.7.0)\n",
            "Collecting httpx<1,>=0.23.0 (from openai>=1.3->pyautogen)\n",
            "  Downloading httpx-0.27.0-py3-none-any.whl (75 kB)\n",
            "\u001b[2K     \u001b[90m━━━━━━━━━━━━━━━━━━━━━━━━━━━━━━━━━━━━━━━━\u001b[0m \u001b[32m75.6/75.6 kB\u001b[0m \u001b[31m8.1 MB/s\u001b[0m eta \u001b[36m0:00:00\u001b[0m\n",
            "\u001b[?25hRequirement already satisfied: sniffio in /usr/local/lib/python3.10/dist-packages (from openai>=1.3->pyautogen) (1.3.1)\n",
            "Requirement already satisfied: tqdm>4 in /usr/local/lib/python3.10/dist-packages (from openai>=1.3->pyautogen) (4.66.2)\n",
            "Requirement already satisfied: typing-extensions<5,>=4.7 in /usr/local/lib/python3.10/dist-packages (from openai>=1.3->pyautogen) (4.11.0)\n",
            "Requirement already satisfied: annotated-types>=0.4.0 in /usr/local/lib/python3.10/dist-packages (from pydantic!=2.6.0,<3,>=1.10->pyautogen) (0.6.0)\n",
            "Requirement already satisfied: pydantic-core==2.18.2 in /usr/local/lib/python3.10/dist-packages (from pydantic!=2.6.0,<3,>=1.10->pyautogen) (2.18.2)\n",
            "Requirement already satisfied: requests>=2.26.0 in /usr/local/lib/python3.10/dist-packages (from docker->pyautogen) (2.31.0)\n",
            "Requirement already satisfied: urllib3>=1.26.0 in /usr/local/lib/python3.10/dist-packages (from docker->pyautogen) (2.0.7)\n",
            "Requirement already satisfied: regex>=2022.1.18 in /usr/local/lib/python3.10/dist-packages (from tiktoken->pyautogen) (2023.12.25)\n",
            "Requirement already satisfied: idna>=2.8 in /usr/local/lib/python3.10/dist-packages (from anyio<5,>=3.5.0->openai>=1.3->pyautogen) (3.7)\n",
            "Requirement already satisfied: exceptiongroup in /usr/local/lib/python3.10/dist-packages (from anyio<5,>=3.5.0->openai>=1.3->pyautogen) (1.2.1)\n",
            "Requirement already satisfied: certifi in /usr/local/lib/python3.10/dist-packages (from httpx<1,>=0.23.0->openai>=1.3->pyautogen) (2024.2.2)\n",
            "Collecting httpcore==1.* (from httpx<1,>=0.23.0->openai>=1.3->pyautogen)\n",
            "  Downloading httpcore-1.0.5-py3-none-any.whl (77 kB)\n",
            "\u001b[2K     \u001b[90m━━━━━━━━━━━━━━━━━━━━━━━━━━━━━━━━━━━━━━━━\u001b[0m \u001b[32m77.9/77.9 kB\u001b[0m \u001b[31m9.1 MB/s\u001b[0m eta \u001b[36m0:00:00\u001b[0m\n",
            "\u001b[?25hCollecting h11<0.15,>=0.13 (from httpcore==1.*->httpx<1,>=0.23.0->openai>=1.3->pyautogen)\n",
            "  Downloading h11-0.14.0-py3-none-any.whl (58 kB)\n",
            "\u001b[2K     \u001b[90m━━━━━━━━━━━━━━━━━━━━━━━━━━━━━━━━━━━━━━━━\u001b[0m \u001b[32m58.3/58.3 kB\u001b[0m \u001b[31m6.8 MB/s\u001b[0m eta \u001b[36m0:00:00\u001b[0m\n",
            "\u001b[?25hRequirement already satisfied: charset-normalizer<4,>=2 in /usr/local/lib/python3.10/dist-packages (from requests>=2.26.0->docker->pyautogen) (3.3.2)\n",
            "Installing collected packages: python-dotenv, h11, flaml, diskcache, tiktoken, httpcore, docker, httpx, openai, pyautogen\n",
            "Successfully installed diskcache-5.6.3 docker-7.1.0 flaml-2.1.2 h11-0.14.0 httpcore-1.0.5 httpx-0.27.0 openai-1.30.5 pyautogen-0.2.28 python-dotenv-1.0.1 tiktoken-0.7.0\n",
            "Collecting langchain\n",
            "  Downloading langchain-0.2.1-py3-none-any.whl (973 kB)\n",
            "\u001b[2K     \u001b[90m━━━━━━━━━━━━━━━━━━━━━━━━━━━━━━━━━━━━━━━━\u001b[0m \u001b[32m973.5/973.5 kB\u001b[0m \u001b[31m9.9 MB/s\u001b[0m eta \u001b[36m0:00:00\u001b[0m\n",
            "\u001b[?25hRequirement already satisfied: PyYAML>=5.3 in /usr/local/lib/python3.10/dist-packages (from langchain) (6.0.1)\n",
            "Requirement already satisfied: SQLAlchemy<3,>=1.4 in /usr/local/lib/python3.10/dist-packages (from langchain) (2.0.29)\n",
            "Requirement already satisfied: aiohttp<4.0.0,>=3.8.3 in /usr/local/lib/python3.10/dist-packages (from langchain) (3.9.5)\n",
            "Requirement already satisfied: async-timeout<5.0.0,>=4.0.0 in /usr/local/lib/python3.10/dist-packages (from langchain) (4.0.3)\n",
            "Collecting langchain-core<0.3.0,>=0.2.0 (from langchain)\n",
            "  Downloading langchain_core-0.2.3-py3-none-any.whl (310 kB)\n",
            "\u001b[2K     \u001b[90m━━━━━━━━━━━━━━━━━━━━━━━━━━━━━━━━━━━━━━━━\u001b[0m \u001b[32m310.2/310.2 kB\u001b[0m \u001b[31m13.6 MB/s\u001b[0m eta \u001b[36m0:00:00\u001b[0m\n",
            "\u001b[?25hCollecting langchain-text-splitters<0.3.0,>=0.2.0 (from langchain)\n",
            "  Downloading langchain_text_splitters-0.2.0-py3-none-any.whl (23 kB)\n",
            "Collecting langsmith<0.2.0,>=0.1.17 (from langchain)\n",
            "  Downloading langsmith-0.1.65-py3-none-any.whl (124 kB)\n",
            "\u001b[2K     \u001b[90m━━━━━━━━━━━━━━━━━━━━━━━━━━━━━━━━━━━━━━━━\u001b[0m \u001b[32m124.3/124.3 kB\u001b[0m \u001b[31m9.7 MB/s\u001b[0m eta \u001b[36m0:00:00\u001b[0m\n",
            "\u001b[?25hRequirement already satisfied: numpy<2,>=1 in /usr/local/lib/python3.10/dist-packages (from langchain) (1.25.2)\n",
            "Requirement already satisfied: pydantic<3,>=1 in /usr/local/lib/python3.10/dist-packages (from langchain) (2.7.1)\n",
            "Requirement already satisfied: requests<3,>=2 in /usr/local/lib/python3.10/dist-packages (from langchain) (2.31.0)\n",
            "Requirement already satisfied: tenacity<9.0.0,>=8.1.0 in /usr/local/lib/python3.10/dist-packages (from langchain) (8.2.3)\n",
            "Requirement already satisfied: aiosignal>=1.1.2 in /usr/local/lib/python3.10/dist-packages (from aiohttp<4.0.0,>=3.8.3->langchain) (1.3.1)\n",
            "Requirement already satisfied: attrs>=17.3.0 in /usr/local/lib/python3.10/dist-packages (from aiohttp<4.0.0,>=3.8.3->langchain) (23.2.0)\n",
            "Requirement already satisfied: frozenlist>=1.1.1 in /usr/local/lib/python3.10/dist-packages (from aiohttp<4.0.0,>=3.8.3->langchain) (1.4.1)\n",
            "Requirement already satisfied: multidict<7.0,>=4.5 in /usr/local/lib/python3.10/dist-packages (from aiohttp<4.0.0,>=3.8.3->langchain) (6.0.5)\n",
            "Requirement already satisfied: yarl<2.0,>=1.0 in /usr/local/lib/python3.10/dist-packages (from aiohttp<4.0.0,>=3.8.3->langchain) (1.9.4)\n",
            "Collecting jsonpatch<2.0,>=1.33 (from langchain-core<0.3.0,>=0.2.0->langchain)\n",
            "  Downloading jsonpatch-1.33-py2.py3-none-any.whl (12 kB)\n",
            "Collecting packaging<24.0,>=23.2 (from langchain-core<0.3.0,>=0.2.0->langchain)\n",
            "  Downloading packaging-23.2-py3-none-any.whl (53 kB)\n",
            "\u001b[2K     \u001b[90m━━━━━━━━━━━━━━━━━━━━━━━━━━━━━━━━━━━━━━━━\u001b[0m \u001b[32m53.0/53.0 kB\u001b[0m \u001b[31m6.1 MB/s\u001b[0m eta \u001b[36m0:00:00\u001b[0m\n",
            "\u001b[?25hCollecting orjson<4.0.0,>=3.9.14 (from langsmith<0.2.0,>=0.1.17->langchain)\n",
            "  Downloading orjson-3.10.3-cp310-cp310-manylinux_2_17_x86_64.manylinux2014_x86_64.whl (142 kB)\n",
            "\u001b[2K     \u001b[90m━━━━━━━━━━━━━━━━━━━━━━━━━━━━━━━━━━━━━━━━\u001b[0m \u001b[32m142.5/142.5 kB\u001b[0m \u001b[31m11.7 MB/s\u001b[0m eta \u001b[36m0:00:00\u001b[0m\n",
            "\u001b[?25hRequirement already satisfied: annotated-types>=0.4.0 in /usr/local/lib/python3.10/dist-packages (from pydantic<3,>=1->langchain) (0.6.0)\n",
            "Requirement already satisfied: pydantic-core==2.18.2 in /usr/local/lib/python3.10/dist-packages (from pydantic<3,>=1->langchain) (2.18.2)\n",
            "Requirement already satisfied: typing-extensions>=4.6.1 in /usr/local/lib/python3.10/dist-packages (from pydantic<3,>=1->langchain) (4.11.0)\n",
            "Requirement already satisfied: charset-normalizer<4,>=2 in /usr/local/lib/python3.10/dist-packages (from requests<3,>=2->langchain) (3.3.2)\n",
            "Requirement already satisfied: idna<4,>=2.5 in /usr/local/lib/python3.10/dist-packages (from requests<3,>=2->langchain) (3.7)\n",
            "Requirement already satisfied: urllib3<3,>=1.21.1 in /usr/local/lib/python3.10/dist-packages (from requests<3,>=2->langchain) (2.0.7)\n",
            "Requirement already satisfied: certifi>=2017.4.17 in /usr/local/lib/python3.10/dist-packages (from requests<3,>=2->langchain) (2024.2.2)\n",
            "Requirement already satisfied: greenlet!=0.4.17 in /usr/local/lib/python3.10/dist-packages (from SQLAlchemy<3,>=1.4->langchain) (3.0.3)\n",
            "Collecting jsonpointer>=1.9 (from jsonpatch<2.0,>=1.33->langchain-core<0.3.0,>=0.2.0->langchain)\n",
            "  Downloading jsonpointer-2.4-py2.py3-none-any.whl (7.8 kB)\n",
            "Installing collected packages: packaging, orjson, jsonpointer, jsonpatch, langsmith, langchain-core, langchain-text-splitters, langchain\n",
            "  Attempting uninstall: packaging\n",
            "    Found existing installation: packaging 24.0\n",
            "    Uninstalling packaging-24.0:\n",
            "      Successfully uninstalled packaging-24.0\n",
            "Successfully installed jsonpatch-1.33 jsonpointer-2.4 langchain-0.2.1 langchain-core-0.2.3 langchain-text-splitters-0.2.0 langsmith-0.1.65 orjson-3.10.3 packaging-23.2\n",
            "Collecting langchain_community\n",
            "  Downloading langchain_community-0.2.1-py3-none-any.whl (2.1 MB)\n",
            "\u001b[2K     \u001b[90m━━━━━━━━━━━━━━━━━━━━━━━━━━━━━━━━━━━━━━━━\u001b[0m \u001b[32m2.1/2.1 MB\u001b[0m \u001b[31m13.4 MB/s\u001b[0m eta \u001b[36m0:00:00\u001b[0m\n",
            "\u001b[?25hRequirement already satisfied: PyYAML>=5.3 in /usr/local/lib/python3.10/dist-packages (from langchain_community) (6.0.1)\n",
            "Requirement already satisfied: SQLAlchemy<3,>=1.4 in /usr/local/lib/python3.10/dist-packages (from langchain_community) (2.0.29)\n",
            "Requirement already satisfied: aiohttp<4.0.0,>=3.8.3 in /usr/local/lib/python3.10/dist-packages (from langchain_community) (3.9.5)\n",
            "Collecting dataclasses-json<0.7,>=0.5.7 (from langchain_community)\n",
            "  Downloading dataclasses_json-0.6.6-py3-none-any.whl (28 kB)\n",
            "Requirement already satisfied: langchain<0.3.0,>=0.2.0 in /usr/local/lib/python3.10/dist-packages (from langchain_community) (0.2.1)\n",
            "Requirement already satisfied: langchain-core<0.3.0,>=0.2.0 in /usr/local/lib/python3.10/dist-packages (from langchain_community) (0.2.3)\n",
            "Requirement already satisfied: langsmith<0.2.0,>=0.1.0 in /usr/local/lib/python3.10/dist-packages (from langchain_community) (0.1.65)\n",
            "Requirement already satisfied: numpy<2,>=1 in /usr/local/lib/python3.10/dist-packages (from langchain_community) (1.25.2)\n",
            "Requirement already satisfied: requests<3,>=2 in /usr/local/lib/python3.10/dist-packages (from langchain_community) (2.31.0)\n",
            "Requirement already satisfied: tenacity<9.0.0,>=8.1.0 in /usr/local/lib/python3.10/dist-packages (from langchain_community) (8.2.3)\n",
            "Requirement already satisfied: aiosignal>=1.1.2 in /usr/local/lib/python3.10/dist-packages (from aiohttp<4.0.0,>=3.8.3->langchain_community) (1.3.1)\n",
            "Requirement already satisfied: attrs>=17.3.0 in /usr/local/lib/python3.10/dist-packages (from aiohttp<4.0.0,>=3.8.3->langchain_community) (23.2.0)\n",
            "Requirement already satisfied: frozenlist>=1.1.1 in /usr/local/lib/python3.10/dist-packages (from aiohttp<4.0.0,>=3.8.3->langchain_community) (1.4.1)\n",
            "Requirement already satisfied: multidict<7.0,>=4.5 in /usr/local/lib/python3.10/dist-packages (from aiohttp<4.0.0,>=3.8.3->langchain_community) (6.0.5)\n",
            "Requirement already satisfied: yarl<2.0,>=1.0 in /usr/local/lib/python3.10/dist-packages (from aiohttp<4.0.0,>=3.8.3->langchain_community) (1.9.4)\n",
            "Requirement already satisfied: async-timeout<5.0,>=4.0 in /usr/local/lib/python3.10/dist-packages (from aiohttp<4.0.0,>=3.8.3->langchain_community) (4.0.3)\n",
            "Collecting marshmallow<4.0.0,>=3.18.0 (from dataclasses-json<0.7,>=0.5.7->langchain_community)\n",
            "  Downloading marshmallow-3.21.2-py3-none-any.whl (49 kB)\n",
            "\u001b[2K     \u001b[90m━━━━━━━━━━━━━━━━━━━━━━━━━━━━━━━━━━━━━━━━\u001b[0m \u001b[32m49.3/49.3 kB\u001b[0m \u001b[31m6.4 MB/s\u001b[0m eta \u001b[36m0:00:00\u001b[0m\n",
            "\u001b[?25hCollecting typing-inspect<1,>=0.4.0 (from dataclasses-json<0.7,>=0.5.7->langchain_community)\n",
            "  Downloading typing_inspect-0.9.0-py3-none-any.whl (8.8 kB)\n",
            "Requirement already satisfied: langchain-text-splitters<0.3.0,>=0.2.0 in /usr/local/lib/python3.10/dist-packages (from langchain<0.3.0,>=0.2.0->langchain_community) (0.2.0)\n",
            "Requirement already satisfied: pydantic<3,>=1 in /usr/local/lib/python3.10/dist-packages (from langchain<0.3.0,>=0.2.0->langchain_community) (2.7.1)\n",
            "Requirement already satisfied: jsonpatch<2.0,>=1.33 in /usr/local/lib/python3.10/dist-packages (from langchain-core<0.3.0,>=0.2.0->langchain_community) (1.33)\n",
            "Requirement already satisfied: packaging<24.0,>=23.2 in /usr/local/lib/python3.10/dist-packages (from langchain-core<0.3.0,>=0.2.0->langchain_community) (23.2)\n",
            "Requirement already satisfied: orjson<4.0.0,>=3.9.14 in /usr/local/lib/python3.10/dist-packages (from langsmith<0.2.0,>=0.1.0->langchain_community) (3.10.3)\n",
            "Requirement already satisfied: charset-normalizer<4,>=2 in /usr/local/lib/python3.10/dist-packages (from requests<3,>=2->langchain_community) (3.3.2)\n",
            "Requirement already satisfied: idna<4,>=2.5 in /usr/local/lib/python3.10/dist-packages (from requests<3,>=2->langchain_community) (3.7)\n",
            "Requirement already satisfied: urllib3<3,>=1.21.1 in /usr/local/lib/python3.10/dist-packages (from requests<3,>=2->langchain_community) (2.0.7)\n",
            "Requirement already satisfied: certifi>=2017.4.17 in /usr/local/lib/python3.10/dist-packages (from requests<3,>=2->langchain_community) (2024.2.2)\n",
            "Requirement already satisfied: typing-extensions>=4.6.0 in /usr/local/lib/python3.10/dist-packages (from SQLAlchemy<3,>=1.4->langchain_community) (4.11.0)\n",
            "Requirement already satisfied: greenlet!=0.4.17 in /usr/local/lib/python3.10/dist-packages (from SQLAlchemy<3,>=1.4->langchain_community) (3.0.3)\n",
            "Requirement already satisfied: jsonpointer>=1.9 in /usr/local/lib/python3.10/dist-packages (from jsonpatch<2.0,>=1.33->langchain-core<0.3.0,>=0.2.0->langchain_community) (2.4)\n",
            "Requirement already satisfied: annotated-types>=0.4.0 in /usr/local/lib/python3.10/dist-packages (from pydantic<3,>=1->langchain<0.3.0,>=0.2.0->langchain_community) (0.6.0)\n",
            "Requirement already satisfied: pydantic-core==2.18.2 in /usr/local/lib/python3.10/dist-packages (from pydantic<3,>=1->langchain<0.3.0,>=0.2.0->langchain_community) (2.18.2)\n",
            "Collecting mypy-extensions>=0.3.0 (from typing-inspect<1,>=0.4.0->dataclasses-json<0.7,>=0.5.7->langchain_community)\n",
            "  Downloading mypy_extensions-1.0.0-py3-none-any.whl (4.7 kB)\n",
            "Installing collected packages: mypy-extensions, marshmallow, typing-inspect, dataclasses-json, langchain_community\n",
            "Successfully installed dataclasses-json-0.6.6 langchain_community-0.2.1 marshmallow-3.21.2 mypy-extensions-1.0.0 typing-inspect-0.9.0\n",
            "Requirement already satisfied: requests in /usr/local/lib/python3.10/dist-packages (2.31.0)\n",
            "Requirement already satisfied: charset-normalizer<4,>=2 in /usr/local/lib/python3.10/dist-packages (from requests) (3.3.2)\n",
            "Requirement already satisfied: idna<4,>=2.5 in /usr/local/lib/python3.10/dist-packages (from requests) (3.7)\n",
            "Requirement already satisfied: urllib3<3,>=1.21.1 in /usr/local/lib/python3.10/dist-packages (from requests) (2.0.7)\n",
            "Requirement already satisfied: certifi>=2017.4.17 in /usr/local/lib/python3.10/dist-packages (from requests) (2024.2.2)\n",
            "Requirement already satisfied: beautifulsoup4 in /usr/local/lib/python3.10/dist-packages (4.12.3)\n",
            "Requirement already satisfied: soupsieve>1.2 in /usr/local/lib/python3.10/dist-packages (from beautifulsoup4) (2.5)\n",
            "Collecting markdownify\n",
            "  Downloading markdownify-0.12.1-py3-none-any.whl (16 kB)\n",
            "Requirement already satisfied: beautifulsoup4<5,>=4.9 in /usr/local/lib/python3.10/dist-packages (from markdownify) (4.12.3)\n",
            "Requirement already satisfied: six<2,>=1.15 in /usr/local/lib/python3.10/dist-packages (from markdownify) (1.16.0)\n",
            "Requirement already satisfied: soupsieve>1.2 in /usr/local/lib/python3.10/dist-packages (from beautifulsoup4<5,>=4.9->markdownify) (2.5)\n",
            "Installing collected packages: markdownify\n",
            "Successfully installed markdownify-0.12.1\n",
            "Requirement already satisfied: pyautogen>=0.2.18 in /usr/local/lib/python3.10/dist-packages (0.2.28)\n",
            "Collecting tavily-python\n",
            "  Downloading tavily_python-0.3.3-py3-none-any.whl (5.4 kB)\n",
            "Requirement already satisfied: diskcache in /usr/local/lib/python3.10/dist-packages (from pyautogen>=0.2.18) (5.6.3)\n",
            "Requirement already satisfied: docker in /usr/local/lib/python3.10/dist-packages (from pyautogen>=0.2.18) (7.1.0)\n",
            "Requirement already satisfied: flaml in /usr/local/lib/python3.10/dist-packages (from pyautogen>=0.2.18) (2.1.2)\n",
            "Requirement already satisfied: numpy<2,>=1.17.0 in /usr/local/lib/python3.10/dist-packages (from pyautogen>=0.2.18) (1.25.2)\n",
            "Requirement already satisfied: openai>=1.3 in /usr/local/lib/python3.10/dist-packages (from pyautogen>=0.2.18) (1.30.5)\n",
            "Requirement already satisfied: packaging in /usr/local/lib/python3.10/dist-packages (from pyautogen>=0.2.18) (23.2)\n",
            "Requirement already satisfied: pydantic!=2.6.0,<3,>=1.10 in /usr/local/lib/python3.10/dist-packages (from pyautogen>=0.2.18) (2.7.1)\n",
            "Requirement already satisfied: python-dotenv in /usr/local/lib/python3.10/dist-packages (from pyautogen>=0.2.18) (1.0.1)\n",
            "Requirement already satisfied: termcolor in /usr/local/lib/python3.10/dist-packages (from pyautogen>=0.2.18) (2.4.0)\n",
            "Requirement already satisfied: tiktoken in /usr/local/lib/python3.10/dist-packages (from pyautogen>=0.2.18) (0.7.0)\n",
            "Requirement already satisfied: requests in /usr/local/lib/python3.10/dist-packages (from tavily-python) (2.31.0)\n",
            "Requirement already satisfied: anyio<5,>=3.5.0 in /usr/local/lib/python3.10/dist-packages (from openai>=1.3->pyautogen>=0.2.18) (3.7.1)\n",
            "Requirement already satisfied: distro<2,>=1.7.0 in /usr/lib/python3/dist-packages (from openai>=1.3->pyautogen>=0.2.18) (1.7.0)\n",
            "Requirement already satisfied: httpx<1,>=0.23.0 in /usr/local/lib/python3.10/dist-packages (from openai>=1.3->pyautogen>=0.2.18) (0.27.0)\n",
            "Requirement already satisfied: sniffio in /usr/local/lib/python3.10/dist-packages (from openai>=1.3->pyautogen>=0.2.18) (1.3.1)\n",
            "Requirement already satisfied: tqdm>4 in /usr/local/lib/python3.10/dist-packages (from openai>=1.3->pyautogen>=0.2.18) (4.66.2)\n",
            "Requirement already satisfied: typing-extensions<5,>=4.7 in /usr/local/lib/python3.10/dist-packages (from openai>=1.3->pyautogen>=0.2.18) (4.11.0)\n",
            "Requirement already satisfied: annotated-types>=0.4.0 in /usr/local/lib/python3.10/dist-packages (from pydantic!=2.6.0,<3,>=1.10->pyautogen>=0.2.18) (0.6.0)\n",
            "Requirement already satisfied: pydantic-core==2.18.2 in /usr/local/lib/python3.10/dist-packages (from pydantic!=2.6.0,<3,>=1.10->pyautogen>=0.2.18) (2.18.2)\n",
            "Requirement already satisfied: regex>=2022.1.18 in /usr/local/lib/python3.10/dist-packages (from tiktoken->pyautogen>=0.2.18) (2023.12.25)\n",
            "Requirement already satisfied: charset-normalizer<4,>=2 in /usr/local/lib/python3.10/dist-packages (from requests->tavily-python) (3.3.2)\n",
            "Requirement already satisfied: idna<4,>=2.5 in /usr/local/lib/python3.10/dist-packages (from requests->tavily-python) (3.7)\n",
            "Requirement already satisfied: urllib3<3,>=1.21.1 in /usr/local/lib/python3.10/dist-packages (from requests->tavily-python) (2.0.7)\n",
            "Requirement already satisfied: certifi>=2017.4.17 in /usr/local/lib/python3.10/dist-packages (from requests->tavily-python) (2024.2.2)\n",
            "Requirement already satisfied: exceptiongroup in /usr/local/lib/python3.10/dist-packages (from anyio<5,>=3.5.0->openai>=1.3->pyautogen>=0.2.18) (1.2.1)\n",
            "Requirement already satisfied: httpcore==1.* in /usr/local/lib/python3.10/dist-packages (from httpx<1,>=0.23.0->openai>=1.3->pyautogen>=0.2.18) (1.0.5)\n",
            "Requirement already satisfied: h11<0.15,>=0.13 in /usr/local/lib/python3.10/dist-packages (from httpcore==1.*->httpx<1,>=0.23.0->openai>=1.3->pyautogen>=0.2.18) (0.14.0)\n",
            "Installing collected packages: tavily-python\n",
            "Successfully installed tavily-python-0.3.3\n"
          ]
        }
      ],
      "source": [
        "%pip install pyautogen\n",
        "%pip install langchain\n",
        "%pip install langchain_community\n",
        "%pip install requests\n",
        "%pip install beautifulsoup4\n",
        "%pip install markdownify\n",
        "%pip install --upgrade --quiet  youtube-transcript-api\n",
        "%pip install \"pyautogen>=0.2.18\" \"tavily-python\""
      ]
    },
    {
      "cell_type": "code",
      "execution_count": null,
      "metadata": {
        "id": "ZHys7FH8ElqV"
      },
      "outputs": [],
      "source": [
        "from google.colab import userdata\n",
        "llm_config=[{\"model\": \"gpt-4o\", \"api_key\":userdata.get('open_api_key')}]\n",
        "llm_config2=[{\"model\": \"gpt-3.5-turbo\", \"api_key\":userdata.get('open_api_key')}]"
      ]
    },
    {
      "cell_type": "markdown",
      "metadata": {
        "id": "9eysGmThNAA1"
      },
      "source": [
        "### Function Callings and Prompt Engineering"
      ]
    },
    {
      "cell_type": "code",
      "execution_count": null,
      "metadata": {
        "id": "N87WZPV0NYB-"
      },
      "outputs": [],
      "source": [
        "from typing import Annotated\n",
        "from langchain_community.document_loaders import YoutubeLoader\n",
        "from langchain.text_splitter import RecursiveCharacterTextSplitter\n",
        "from tavily import TavilyClient\n",
        "import requests\n",
        "from bs4 import BeautifulSoup\n",
        "from markdownify import markdownify\n",
        "\n",
        "tavily = TavilyClient(api_key=userdata.get('talivy_key'))\n",
        "def search_tool(query: Annotated[str, \"The search query\"]) -> Annotated[str, \"The search results\"]:\n",
        "  return tavily.get_search_context(query=query, search_depth=\"advanced\")\n",
        "\n",
        "def youtube_transcript_retrieval(url):\n",
        "  loader = YoutubeLoader.from_youtube_url(url)\n",
        "  docs = loader.load()\n",
        "  docs= ' '.join([doc.page_content for doc in docs])\n",
        "  return docs\n",
        "\n",
        "def content_retrieval(url):\n",
        "  try:\n",
        "    responses = requests.get(url)\n",
        "  except:\n",
        "    print(\"Errors occured in retrieving the data\")\n",
        "  soup = BeautifulSoup(responses.text, 'html.parser')\n",
        "  texts=soup.get_text()\n",
        "  return markdownify(texts)\n",
        "\n",
        "def split_text(docs):\n",
        "  text_splitters=RecursiveCharacterTextSplitter(chunk_size=2000, chunk_overlap=200)\n",
        "  docs=text_splitters.create_documents(docs)\n",
        "  return docs"
      ]
    },
    {
      "cell_type": "markdown",
      "metadata": {
        "id": "MsbYO_imNDll"
      },
      "source": [
        "### AI Agents"
      ]
    },
    {
      "cell_type": "code",
      "execution_count": null,
      "metadata": {
        "colab": {
          "base_uri": "https://localhost:8080/"
        },
        "id": "TT2vBX4B8yD0",
        "outputId": "557ac219-77f0-4690-c211-23e2ef194d7c"
      },
      "outputs": [
        {
          "name": "stdout",
          "output_type": "stream",
          "text": [
            "Drive already mounted at /content/drive; to attempt to forcibly remount, call drive.mount(\"/content/drive\", force_remount=True).\n"
          ]
        }
      ],
      "source": [
        "from google.colab import drive\n",
        "drive.mount('/content/drive')"
      ]
    },
    {
      "cell_type": "code",
      "execution_count": null,
      "metadata": {
        "colab": {
          "base_uri": "https://localhost:8080/"
        },
        "id": "6dpi-vjgFhJm",
        "outputId": "67b8ab27-95ba-49b6-adb9-219eeaa54176"
      },
      "outputs": [
        {
          "name": "stderr",
          "output_type": "stream",
          "text": [
            "/usr/local/lib/python3.10/dist-packages/autogen/agentchat/conversable_agent.py:2410: UserWarning: Function 'search_tool' is being overridden.\n",
            "  warnings.warn(f\"Function '{name}' is being overridden.\", UserWarning)\n"
          ]
        }
      ],
      "source": [
        "from autogen import UserProxyAgent, AssistantAgent, register_function\n",
        "from autogen.agentchat.contrib.retrieve_assistant_agent import RetrieveAssistantAgent\n",
        "from autogen.coding import LocalCommandLineCodeExecutor\n",
        "\n",
        "\n",
        "code_executor=LocalCommandLineCodeExecutor(work_dir=\"/content/sample_data\")\n",
        "\n",
        "researcher = AssistantAgent(\n",
        "    name=\"Researcher\",\n",
        "    llm_config={\"config_list\":llm_config2},\n",
        "    human_input_mode=\"NEVER\",\n",
        "    system_message=\"You are a researcher tasked with summarizing notable information from a given context. Your role is to analyze the provided research content related to a topic. You should concisely summarize the 5 most relevant insights, facts, in bullet points while remaining unbiased. Your goal is to provide notable pơints of the content to facilitate further validation.\"\n",
        ")\n",
        "\n",
        "questioner = AssistantAgent(\n",
        "    name=\"questioner\",\n",
        "    llm_config={\"config_list\":llm_config},\n",
        "    system_message=\"You are a critical thinker tasked for assessing the credibility of information from various angles.\"\n",
        "    \"Your role is to carefully analyze the information summarized by the Researcher, and validate the quality as well as trustworthiness of that information.\"\n",
        "    \"You should assess every piece of insight by questioning its logic, accuracy and biases.\"\n",
        "    \"You have access to tools provided. Use the following format:\"\n",
        "    \"Information: the insights that need to be assessed\"\n",
        "    \"Thought: you should always think about what to do\"\n",
        "    \"Action: the action to take\"\n",
        "    \"Action Input: the input to the action\"\n",
        "    \"Observation: the result of the action\"\n",
        "    \"... (this process can repeat multiple times)\"\n",
        "    \"Thought: I now know the final argument\"\n",
        "    \"Final Answer: return the trustworthiness score, quality score of that information and reasons for that\"\n",
        ")\n",
        "\n",
        "\n",
        "user_proxy=UserProxyAgent(\n",
        "    name=\"SearchTool\",\n",
        "    is_termination_msg=lambda x: x.get(\"content\", \"\") and x.get(\"content\", \"\").rstrip().endswith(\"TERMINATE\"),\n",
        "    human_input_mode=\"NEVER\",\n",
        "    max_consecutive_auto_reply=10,\n",
        "    code_execution_config={\"executor\": code_executor},\n",
        ")\n",
        "\n",
        "\n",
        "register_function(\n",
        "    search_tool,\n",
        "    caller=questioner,\n",
        "    executor=user_proxy,\n",
        "    name=\"search_tool\",\n",
        "    description=\"Search the web for the given query\",\n",
        ")"
      ]
    },
    {
      "cell_type": "markdown",
      "metadata": {
        "id": "QMXoPMGa7-Sz"
      },
      "source": [
        "### Test"
      ]
    },
    {
      "cell_type": "code",
      "execution_count": null,
      "metadata": {
        "id": "ni4dIMpd8CcS"
      },
      "outputs": [],
      "source": [
        "youtube_docs=youtube_transcript_retrieval(\"https://youtu.be/gj-3Ji3CN80?si=K4VeVCxjrYJXBKrF\")"
      ]
    },
    {
      "cell_type": "code",
      "execution_count": null,
      "metadata": {
        "id": "s7piPzPNB2kr"
      },
      "outputs": [],
      "source": [
        "task=\"This is the youtube transcript that I retrieve from a debate video: /n\" + youtube_docs"
      ]
    },
    {
      "cell_type": "code",
      "execution_count": null,
      "metadata": {
        "id": "IxcJy77b_q6v"
      },
      "outputs": [],
      "source": [
        "def reflection_message(recipient, messages, sender, config):\n",
        "    print(\"Reflecting...\", \"yellow\")\n",
        "    return f\"Validate all important information. \\n\\n {recipient.chat_messages_for_summary(sender)[-1]['content']}\"\n",
        "\n",
        "user_proxy.register_nested_chats(\n",
        "  [\n",
        "      {\n",
        "          'recipient': questioner,\n",
        "          \"message\": reflection_message,\n",
        "          \"summary_method\": \"last_msg\",\n",
        "          \"max_turns\": 2\n",
        "      }\n",
        "  ],\n",
        "  trigger= researcher\n",
        ")"
      ]
    },
    {
      "cell_type": "code",
      "execution_count": null,
      "metadata": {
        "colab": {
          "base_uri": "https://localhost:8080/"
        },
        "id": "ueRv1eLSBvJb",
        "outputId": "9ed0a10a-fb38-4ddc-920f-82a86dd92752"
      },
      "outputs": [
        {
          "name": "stdout",
          "output_type": "stream",
          "text": [
            "User (to Researcher):\n",
            "\n",
            "This is the youtube transcript that I retrieve from a debate video: /nyou're both mostly in agreement but what is I don't know if i' say that okay but as I'm learning uh what is Israel doing right what is Israel doing wrong in this very specific current war in Gaza um I mean frankly I think that what Israel is doing wrong is if I were Israel okay like again America's interests are not coincident with Israel's interest if if if I were an Israeli leader I would have swiveled up and and knocked the leap out ofah early does does mean so I I would have I would y Galant who was the defense minister of Israel was encouraging Netanyahu is the prime minister and the war cabinet including Benny Gan so whenever people talk about the Netanyahu government that's not what's in place right now there's a Unity War government in place that includes the political opposition the reason I point that out is because there are a lot of people politically who will suggest that the actions Israel is currently taking are somehow the manifestation of a right-wing government Israel currently does not have a quotequote right-wing government they have Unity government that includes the opposition in any case yov Galant was urging in the very early days of the war that Israel should turn north and instead of hitting Hamas they should actually take the opportunity to knock hisbah out because hisbah is significantly more dangerous to the existence of the state of Israel than Hamas I actually agree with that uh as far as what Israel has been doing wrong in the actual War I mean I think that again from an American perspective I think that Israel is is doing pretty well from an Israeli perspective V Israeli I would actually want Israel to be less loose about sending its soldiers in on the ground level so Israel's attempting to minimize civilian casualties and the cost of that has been the highest military death toll that Israel has had since the 1973 yum kipur War I mean I personally know through one degree of separation three separate people have been killed in Gaza and that's because they're going in door Todo it's because they're they're attempting to minimize civilian casualties and they're losing a lot of guys in in this particular in this particular War um you know the the the problem that Israel has had historically speaking is that Israel got very complacent about its own security situation they belied the technology was going to somehow correct for the hatred on the other side of the wall that very okay so are people have to live underground for two weeks at a time while some Rockets fall but at least it's not a war and that complacence you know bred what happened on October 7th so to to me what Israel did wrong was years and years and years of complacence and belief in an Oslo system that is at root a failure because you cannot make a peace agreement with people who do not want make peace with you so that that that's what I think isra doing wrong I I have a feeling there's going to be wide Divergence on this point um maybe uh so uh in terms of broadly speaking um I generally oppose settlement expansion is a thing that Israel does incorrectly that I think is kind of like provocative to at least all the Palestinians uh in the West Bank and I probably energize his hatred in the Gaza trip for them as well in terms of conducting uh in terms of conducting Warfare uh the one thing that I always say to everybody uh especially Americans is you can't evaluate things from an American perspective it's very stupid happened a lot with Ukraine where people like oh well didn't they work with the Nazis and like weren't the Soviets the good guys and it's like well in other parts of the world it's not quite as simple um and I think the same is true for Israel Palestine that a lot of Americans will analyze the conflict as just being one between only Israel and Palestine which it's not it's a conct between Israel and then Palestine heah the houthis and Iran right now it is um I think that the however one area where I'll break with Ben is is I think that minimizing civilian casualties and everything is very very very important I think on the Israel side I don't think it's important so that the US will stay with them because I think the US is probably going to stick with Israel as long as they don't do anything crazy and I don't even think it matters for the International Community it doesn't definitely doesn't matter for the UN because Jesus Christ um however I think it's really really really important that I think that in the Middle East broadly speaking I think that leadership especially in the Gulf has gotten over the Palestinian uh issue I think that leadership is kind of like they don't care as much anymore but the populations still care quite bit and I think that the main issue that Israel could run into is if the civilian death toll does climb too high and if they start to hit this you know 40 50 60,000 number of Civilian casualties they run the risk of the civilian populations and the surrounding middle eastern states becoming so antagonistic towards Israel that they start to take steps back towards normalization in the region so for instance I know that um Bahrain I think already pulled out their Ambassador um to Israel my guess is going to be it's temporary um I know that on the um on the public side you've got a lot of people condemning Israel for the attacks and on the private side you've got people telling Israel please kill all of Hamas because this is untenable and nobody wants to work in the situation um I don't know if this ended up being true or not I'm guessing it didn't but I saw on a couple of Twitter accounts it was leaked that potentially Saudi Arabia was considering installing a government in the West Bank that they would run um no I mean I I think Israel would love nothing better than that but that is something one of the big problems in the Middle East is literally no one wants to preside over the Palestinians no one Arab states Israel no one so I think the issue is and I think and I'm largely actually I'm very sympathetic towards the Palestinians because I think that for um since 48 and onwards I think that all of the Arab states super gassed them up on that they wanted the Palestinians to fight because they wanted to fight with Israel um however as time has gone on and they' realized that the it's kind of a lost cause states have started to drop out so you're getting these bilateral uh peace treaties with um Egypt and with Jordan you're getting multilateral agreements like the Abraham Accords and now the Palestinians are looking around and like okay guys told us to fight all this time and now the only people that we have supporting us are Iranian proxies um so the Palestinians are in a very weird spot where they've like lost all their support um yeah I think that I think that Israel what I would say to be quote unquote critical of Israel is Israel needs to take strong steps towards peace that probably involves them enduring some undue hardship so not the October 7th attacks because Jesus that's way too much but you know other types of you know attacks that they might have to deal with that might cause some civilians to die that they don't come out over the top with and and retaliate with if there's ever going to be peace in that region however another thing that I've always said is a huge problem between Israel and palestin is I think that both sides think that if they continue to fight it will be good for them but the problem is one side is delusional uh Israel I think Israel wants to continue to fight because they get justifications for uh the annexation of the Golan Heights they get justifications for expansions especially in area SE that I that think they're probably going to try to Annex soon uh they get justifications for the increased military posturing uh towards the Gaza Strip and the embargos and Israel is right that if the conflict continues really the situation only improves for Israel Over time but the Palestinians also all believe that if they keep fighting they thought this since 2000 under Arafat that if they just keep fighting they'll get better gains too but that's not the case is there a difference between Palestinian citizens and the leadership when you say that I love all people I love all people around the world and I think that when we analyze issues I think that we have to be very honest with what the people on the ground think and the idea that Hamas is just this one off thing in the Gaza Strip is not only incorrect with the situation on the ground it's also incredibly ahistorical um and the idea that like the Palestinians in the West Bank of which I believe the most recent polling shows I want to say 75 to 80% support the October 7th attacks um Palestinians in general want to fight in violent conflict with Israel that's not just the position of the government that's not just people there's a reason why a boss doesn't want to do uh elections in the West Bank uh and it's because the Palestinian people really do want to fight with is but to combat that problem is like you have to get the UN on board we've got to do an actual addressing of the Palestinian refugee problem which is handled like a joke right now um Iran has to be brought to the table in terms of negotiations uh there has to be huge efforts made to economically Revitalize these like Palestinian areas even though they're one of the highest recipients of Aid in the world um you you have to do something about the Embargo and the blockade and the Gaza Strip which isn't just maintained by Israel it's also maintained by Egypt you should ask why um yeah there's a lot of things that have to happen to fix that problem but the reality is is I don't think Israel really wants to because they get to continue their expansion into the West Bank and I don't think anybody around the world really cares that much month we won't be talking I will argue with that the idea that Israel does not want to end the conflict is be lied by the history of what just happened with the Gaza Strip so when we talk about settlements for example Israel did have settlements inside the Gaza Strip there were 8,000 Jews who were living inside the Gaza Strip in gush katif uh up until 2005 they they they withdrew all of those people I mean took them literally out of their homes uh and the result was not the burgeoning of a of a better attitude toward the state of Israel with regard to for example you know the the Palestinian population in Gaza in fact it was more radical in Gaza than it was in the West Bank uh the the the result was obviously the election of Kamas the the October 7th attacks in which unfortunately many civilians took place took part in the October 7th attacks there's video of people rushing who are civilians and dressed in civilian clothing into Israeli villagers not always the same thing oh no no that is that is 100% true obviously uh and when it comes to you know know area C and Israel's you know supposed deep and abiding desire for territorial expansion in area C area C so for for those who are not familiar with the oo cords and again this is getting very abstruse but the oso cords are broken down into three areas of the West Bank area a is under full Palestinian control that would be like Janine and Nablus the the major cities for example there's area B which is mixed Israeli Palestinian control where Israel provides some level of military security and control uh and then there's area C and area C was like to be decided later it was left up for Poss concessions to the Palestinian Authority if the a Accords had moved forward those are disputed territories there is building taking place in areas by both actually no one talks about this but by by Palestinians as well as Israelis uh and the the you know question is to whether if Israel stop building there have been many settlement freees in the past including some undertaken by Netanyahu uh and and it actually has not done one iota of good in moving the ball forward in terms of actual negotiations again the the biggest problem is that the leadership for Palestinians has spent every day since really 67 it's not even 48 because after 40 between 48 and 67 Jordan was in charge of the West Bank and Egypt was in charge of the Gaza Strip and no point did either of those Powers say hey maybe we ought to hand this over to an independent Palestinian state which was originally the division that was that was promoted by the UN partition plan in 47 because of that uh the the leadership post 67 and really starting in 64 the Palestine Liberation Organization was founded in ' 64 and it called for the liberation of the land in ' 64 they had the West Bank and they had the Gaza Strip so they're talking about Tel Aviv uh when it was founded in in ' 64 the basic idea as you know kind of indicated by that was Israel will not exist and that was a promise that's been made by pretty much every Palestinian leader in Arabic to the people that they are talking to yasat famously would do this sort of thing he'd speak in English and talk about how he wanted a two-state solution and then he'd go back to his own people and say this is a trojan horse and we're if Israel could if you think that Israeli parents want to send their kids at the age of 18 to go and monitor Janine and Nablus and be in inun you're out of your mind you're out of your mind Israelis do not want that in fact Israelis didn't want that so much that they allowed Rockets to fall in their cities for full on 18 years in order to avoid sending soldiers on mass back into the Gaza Strip true but I think Israel does want to continue to expand settlements into the West Bank right they want to continue to build they want to have Jerusalem East Jerusalem as well well I mean East Jerusalem has already been annexed so East Jerusalem is according to Israel a part of Israel that's not a settlement Okay so there's that with regard to you know does Israel have an interest in expanding settlements in the West Bank why would they not until there's a peace partner sure that's what I mean but I'm saying as long as the conflict continues like because even when you talk about no but your suggestion is that they're incentivizing the conflict to continue so they can grab more land well no let me be very clear I don't think there's like a PL like so some people say for instance uh they'll take that one quote from Netanyahu and they'll try to say that like he was funding the people in the Gaza Strip by allowing katari money to come in even though he was actually speaking in opposition to a boss allowing the gusa strip to fall for Netanyahu to clear it out for him they give it back etc etc I'm not saying I'm not claiming those theories I'm just saying that I think that Israel will take a relatively neutral stance towards conflict in enduring because as long as the conflict endures and as long as the uh settlements can expand I think that benefits I think that ultimately benefits Israel the I think there would be very let's put this way if suddenly there arose among the Palestinians a deep and abiding desire for peace approved by a vast majority of the population with serious security guarantees I think you'd be very hardpressed to find Israelis who would not be willing to at least consider that in not expanding bathrooms in a fra I kind of I would have agreed with you on October 6 I think we're probably a year or two away from that right now no no but no the point I'm making is that Israelis now realized that the entire peace process was a sham meaning the people who are on the other side of the table were using it as a trojan horse in the first place that the death of Oslo is not the death of Israeli hopefulness it's the death of the illusion that on the other side of the table was anyone worth bargaining with that's what's happening and that's why you have this sort of insane disconnect right now between the United States and the Israeli government again it's a Unity government no one in Israel is talking talking about making concessions to the Palestinian Authority for a wide variety of reasons including the fact that Mahmud abas fat continues to pay actual families of terrorists who kill Jews the mar fund yeah right and and which is from the the moderate West Bank right exactly that's that so you again like the taste in Israel for this is a even the people who are the the kilon right those are the most secular people in Israel which was by the way the place that was attacked on October 7th I mean what people should understand is that October 7th was not an attack against settlements in the West Bank it was an attack on peace Villages that were essentially disarmed and many of these people who were killed were peace activists who were literally trying to work with people in Gaza to get them I mean it's just it's it's mind-boggling that's why you've had this ground shift in Israel the next 20 years in Israel is going to be about security and economic development period end of story everything else goes second third place and I will say I agree essentially with everything you're saying um not to loop back on another topic but this is one of the reasons then why I was so critical I don't want to say critical but like kind of nonchalant about the Abraham Accords because they didn't address anything with the Palestinians whatsoever they brought countries that weren't super relevant the conflict they didn't bring in Qatar which is where a lot of the money and support for the god con they didn't involve Iran at all they involved bilateral but it totally changed the mentality and this is why what I'm seeing right now this is why listen I think that that Biden has done better than I certainly expected him to do in terms of support for Israel like Obama was way less supportive of Israel than Biden by every metric with that said the rhetoric that he's been using recently and the blankin have been using recently about Israel needs to make painful concessions for peace Israel reentering this issue at the center of relations in the Middle East is doomed to failure the magic magic is a strong word the the benefit of the Abraham Accords was proof of what you're saying which is true which is that all the surrounding countries in reality have abandoned the idea that there's a centrality to the Palestinian Israeli conflict that is not the central conflict in the Middle East and by the way one of the reasons it's not the central conflict in the Middle East is because actually ironically because of the rise of Iran right it's it's Sunni states that are largely signing up with Israel because they're realizing they need some sort of counterweight to a a burgeoning nuclear power in Iran\n",
            "\n",
            "--------------------------------------------------------------------------------\n",
            "Researcher (to User):\n",
            "\n",
            "- Current War in Gaza: There is a discussion about what Israel is doing right and wrong in the current conflict in Gaza.\n",
            "- Unity Government: It is mentioned that Israel currently has a Unity government that includes the political opposition, contrary to the perception of a right-wing government.\n",
            "- Minimizing Civilian Casualties: Israel is attempting to minimize civilian casualties, leading to a high military death toll in the current conflict.\n",
            "- Settlement Expansion: There is opposition to settlement expansion in the West Bank, seen as provocative to Palestinians.\n",
            "- International Perspective: The conflict between Israel and Palestine is not just bilateral, involving other actors like the Houthis and Iran, highlighting complexities beyond a simple two-party conflict.\n",
            "\n",
            "--------------------------------------------------------------------------------\n",
            "User (to Researcher):\n",
            "\n",
            "\n",
            "\n",
            "--------------------------------------------------------------------------------\n",
            "Researcher (to User):\n",
            "\n",
            "- Debate Topics: The discussion revolves around what Israel is doing right and wrong in the current conflict in Gaza.\n",
            "- Unity Government: Israel currently has a Unity government in place, including political opposition, contrary to the perception of a right-wing government.\n",
            "- Civilian Casualties: Israel's attempt to minimize civilian casualties in the conflict has led to a high military death toll.\n",
            "- Settlement Expansion: There is opposition to settlement expansion in the West Bank, seen as provocative to Palestinians.\n",
            "- Complex Conflict: The conflict between Israel and Palestine involves other actors like the Houthis and Iran, highlighting broader complexities beyond a simple two-party conflict.\n",
            "\n",
            "--------------------------------------------------------------------------------\n"
          ]
        }
      ],
      "source": [
        "res = user_proxy.initiate_chat(recipient=researcher, message=task, max_turns=2, summary_method=\"last_msg\")"
      ]
    }
  ],
  "metadata": {
    "colab": {
      "provenance": []
    },
    "kernelspec": {
      "display_name": "Python 3",
      "name": "python3"
    },
    "language_info": {
      "name": "python",
      "version": "3.12.2"
    }
  },
  "nbformat": 4,
  "nbformat_minor": 0
}
